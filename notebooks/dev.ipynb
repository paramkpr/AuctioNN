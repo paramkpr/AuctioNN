{
 "cells": [
  {
   "cell_type": "code",
   "execution_count": null,
   "metadata": {},
   "outputs": [],
   "source": []
  },
  {
   "cell_type": "code",
   "execution_count": 9,
   "metadata": {},
   "outputs": [],
   "source": [
    "import pandas as pd\n",
    "\n",
    "dataset = pd.read_parquet('./data/clean_data.parquet')\n",
    "display(dataset.info())\n",
    "display(dataset.head())\n"
   ]
  },
  {
   "cell_type": "code",
   "execution_count": 4,
   "metadata": {},
   "outputs": [],
   "source": [
    "from src.data_processing.datasets import AuctionDataset\n",
    "\n",
    "auction_dataset = AuctionDataset(processed_data_dir=\"./data/processed_splits\", split_name=\"test\")"
   ]
  },
  {
   "cell_type": "code",
   "execution_count": 11,
   "metadata": {},
   "outputs": [
    {
     "name": "stdout",
     "output_type": "stream",
     "text": [
      "[3, 1, 76, 44, 20, 1, 76, 17, 797, 2] [0.45481619238853455, -0.18558049201965332, -0.1545756608247757, -0.11264967918395996, -0.3494034707546234, 1.36832857131958, 1.3651432991027832, -0.3001197278499603] 0.0\n"
     ]
    }
   ],
   "source": [
    "cat, num, target = auction_dataset[0]\n",
    "print(cat.tolist(), num.tolist(), target.tolist())"
   ]
  },
  {
   "cell_type": "code",
   "execution_count": 12,
   "metadata": {},
   "outputs": [
    {
     "data": {
      "text/plain": [
       "torch.Tensor"
      ]
     },
     "execution_count": 12,
     "metadata": {},
     "output_type": "execute_result"
    }
   ],
   "source": [
    "type(auction_dataset[0][0])"
   ]
  },
  {
   "cell_type": "code",
   "execution_count": 13,
   "metadata": {},
   "outputs": [
    {
     "name": "stdout",
     "output_type": "stream",
     "text": [
      "[[2, 3, 12, 44, 69, 1, 40, 10, 315, 27]] [[-2.198690414428711, -0.18558049201965332, -0.1545756608247757, -0.11264967918395996, -0.696603536605835, 1.2293754816055298, -0.660056471824646, -1.2451515197753906]] [0.0]\n"
     ]
    }
   ],
   "source": [
    "from src.exchange import Impression, ImpressionGenerator, OnlinePreprocessor\n",
    "\n",
    "gen = ImpressionGenerator(parquet_path=\"./data/clean_data.parquet\")\n",
    "preprocessor = OnlinePreprocessor(preprocessor_dir=\"./preprocessors\")\n",
    "\n",
    "for impression in gen.stream():\n",
    "    cat, num, target = preprocessor(impression, \"9317\")\n",
    "    print(cat.long().tolist(), num.float().tolist(), target.tolist())\n",
    "    break\n"
   ]
  },
  {
   "cell_type": "code",
   "execution_count": 3,
   "metadata": {},
   "outputs": [
    {
     "name": "stdout",
     "output_type": "stream",
     "text": [
      "[9317]\n"
     ]
    }
   ],
   "source": [
    "import pandas as pd\n",
    "\n",
    "d = pd.read_parquet('./data/clean_data.parquet')\n",
    "ids = d[\"campaign_id\"].unique()\n",
    "print(ids)\n",
    "\n",
    "\n",
    "\n",
    "\n",
    "\n"
   ]
  },
  {
   "cell_type": "code",
   "execution_count": 4,
   "metadata": {},
   "outputs": [
    {
     "name": "stdout",
     "output_type": "stream",
     "text": [
      "10000\n"
     ]
    }
   ],
   "source": [
    "i = 10_000\n",
    "print(i)"
   ]
  },
  {
   "cell_type": "code",
   "execution_count": 5,
   "metadata": {},
   "outputs": [
    {
     "data": {
      "text/html": [
       "<div>\n",
       "<style scoped>\n",
       "    .dataframe tbody tr th:only-of-type {\n",
       "        vertical-align: middle;\n",
       "    }\n",
       "\n",
       "    .dataframe tbody tr th {\n",
       "        vertical-align: top;\n",
       "    }\n",
       "\n",
       "    .dataframe thead th {\n",
       "        text-align: right;\n",
       "    }\n",
       "</style>\n",
       "<table border=\"1\" class=\"dataframe\">\n",
       "  <thead>\n",
       "    <tr style=\"text-align: right;\">\n",
       "      <th></th>\n",
       "      <th>imp_id</th>\n",
       "      <th>user_id</th>\n",
       "      <th>campaign_id</th>\n",
       "      <th>bid</th>\n",
       "      <th>market_price</th>\n",
       "      <th>win</th>\n",
       "      <th>pconv</th>\n",
       "      <th>expected_value</th>\n",
       "      <th>budget_remaining</th>\n",
       "    </tr>\n",
       "  </thead>\n",
       "  <tbody>\n",
       "    <tr>\n",
       "      <th>0</th>\n",
       "      <td>1</td>\n",
       "      <td>77</td>\n",
       "      <td>9317</td>\n",
       "      <td>0.000000</td>\n",
       "      <td>0.002096</td>\n",
       "      <td>False</td>\n",
       "      <td>-10.397910</td>\n",
       "      <td>-82.825639</td>\n",
       "      <td>4363.690640</td>\n",
       "    </tr>\n",
       "    <tr>\n",
       "      <th>1</th>\n",
       "      <td>2</td>\n",
       "      <td>88</td>\n",
       "      <td>9317</td>\n",
       "      <td>0.000000</td>\n",
       "      <td>0.001070</td>\n",
       "      <td>False</td>\n",
       "      <td>-0.767078</td>\n",
       "      <td>-6.110237</td>\n",
       "      <td>4363.690640</td>\n",
       "    </tr>\n",
       "    <tr>\n",
       "      <th>2</th>\n",
       "      <td>3</td>\n",
       "      <td>59</td>\n",
       "      <td>9317</td>\n",
       "      <td>0.000000</td>\n",
       "      <td>0.002620</td>\n",
       "      <td>False</td>\n",
       "      <td>-0.761178</td>\n",
       "      <td>-6.063245</td>\n",
       "      <td>4363.690640</td>\n",
       "    </tr>\n",
       "    <tr>\n",
       "      <th>3</th>\n",
       "      <td>4</td>\n",
       "      <td>92</td>\n",
       "      <td>9317</td>\n",
       "      <td>4.675038</td>\n",
       "      <td>0.002881</td>\n",
       "      <td>True</td>\n",
       "      <td>0.586903</td>\n",
       "      <td>4.675038</td>\n",
       "      <td>4363.687759</td>\n",
       "    </tr>\n",
       "    <tr>\n",
       "      <th>4</th>\n",
       "      <td>5</td>\n",
       "      <td>14</td>\n",
       "      <td>9317</td>\n",
       "      <td>0.000000</td>\n",
       "      <td>0.000679</td>\n",
       "      <td>False</td>\n",
       "      <td>-2.003080</td>\n",
       "      <td>-15.955740</td>\n",
       "      <td>4363.687759</td>\n",
       "    </tr>\n",
       "  </tbody>\n",
       "</table>\n",
       "</div>"
      ],
      "text/plain": [
       "   imp_id  user_id  campaign_id       bid  market_price    win      pconv  \\\n",
       "0       1       77         9317  0.000000      0.002096  False -10.397910   \n",
       "1       2       88         9317  0.000000      0.001070  False  -0.767078   \n",
       "2       3       59         9317  0.000000      0.002620  False  -0.761178   \n",
       "3       4       92         9317  4.675038      0.002881   True   0.586903   \n",
       "4       5       14         9317  0.000000      0.000679  False  -2.003080   \n",
       "\n",
       "   expected_value  budget_remaining  \n",
       "0      -82.825639       4363.690640  \n",
       "1       -6.110237       4363.690640  \n",
       "2       -6.063245       4363.690640  \n",
       "3        4.675038       4363.687759  \n",
       "4      -15.955740       4363.687759  "
      ]
     },
     "execution_count": 5,
     "metadata": {},
     "output_type": "execute_result"
    }
   ],
   "source": [
    "results = pd.read_parquet('./runs/simulation_results.parquet')\n",
    "results.head()"
   ]
  },
  {
   "cell_type": "code",
   "execution_count": null,
   "metadata": {},
   "outputs": [],
   "source": [
    "# write to csv\n",
    "results.to_csv('./runs/simulation_results.csv', index=False)"
   ]
  }
 ],
 "metadata": {
  "kernelspec": {
   "display_name": "AuctioNN (venv)",
   "language": "python",
   "name": "auctionn-venv"
  },
  "language_info": {
   "codemirror_mode": {
    "name": "ipython",
    "version": 3
   },
   "file_extension": ".py",
   "mimetype": "text/x-python",
   "name": "python",
   "nbconvert_exporter": "python",
   "pygments_lexer": "ipython3",
   "version": "3.13.3"
  }
 },
 "nbformat": 4,
 "nbformat_minor": 2
}
