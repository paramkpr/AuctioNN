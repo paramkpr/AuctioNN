{
 "cells": [
  {
   "cell_type": "markdown",
   "metadata": {},
   "source": [
    "## Initial Data Exploration\n",
    "\n",
    "This notebook performs an initial exploration of the impressions and conversions datasets provided.\n",
    "We will look at the data structure, sample rows, basic statistics, and missing values to get a preliminary understanding of the data."
   ]
  },
  {
   "cell_type": "code",
   "execution_count": null,
   "metadata": {},
   "outputs": [],
   "source": [
    "import pandas as pd\n",
    "\n",
    "# Configure pandas display options for better readability\n",
    "pd.set_option('display.max_columns', None) \n",
    "pd.set_option('display.max_rows', 100)\n",
    "pd.set_option('display.width', 1000) # Adjust width for better table display if needed"
   ]
  },
  {
   "cell_type": "markdown",
   "metadata": {},
   "source": [
    "### Data Dictionaries Summary\n",
    "\n",
    "Based on the provided `data/data_dictionary` files:\n",
    "\n",
    "**Impressions Data (`impressions_test.pqt`)**\n",
    "Contains information about ad impressions served. Key columns include:\n",
    "- `dte`: Date of the impression.\n",
    "- `campaign_id`, `placement_id`: Identifiers for the ad campaign and placement.\n",
    "- `dttm_utc`: Timestamp of the impression.\n",
    "- `cnxn_type`: Type of internet connection (e.g., Cable/DSL, Cellular).\n",
    "- `user_agent`: Browser/device user agent string.\n",
    "- `dma`: DMA code (Designated Market Area).\n",
    "- `country`: Country code.\n",
    "- `os`: Operating system.\n",
    "- `prizm_premier_code`: Nielsen PRIZM Premier marketing segmentation code.\n",
    "- `device_type`: Type of device (likely uses codes from `device_types.csv`).\n",
    "- `aip_*`: Additional device/connection info (screen dimensions, ISP, OS name, hardware).\n",
    "\n",
    "**Conversions Data (`conversions_test.pqt`)**\n",
    "Contains information about conversion events attributed to ad impressions/clicks. Key columns include:\n",
    "- `dte`: Date of the conversion.\n",
    "- `conv_dttm_utc`: Timestamp of the conversion event.\n",
    "- `imp_click_dttm_utc`: Timestamp of the attributed impression or click.\n",
    "- `imp_click_campaign_id`, `imp_click_placement_id`: Identifiers for the campaign/placement associated with the conversion.\n",
    "- `conv_property_id`: Identifier for the property (e.g., website pixel) where the conversion occurred.\n",
    "- `conv_dma`: DMA code at time of conversion.\n",
    "- `conv_user_agent`: User agent at time of conversion.\n",
    "- `goal_id`, `goal_name`: Identifier and name for the conversion goal (e.g., 'Purchase', 'Sign Up').\n",
    "- `conv_prizm_premier_code`: Prizm Premier code at time of conversion.\n",
    "- `conv_cnxn_type`: Connection type at time of conversion.\n",
    "- `conv_device_type`: Device type at time of conversion.\n",
    "\n",
    "**Device Types (`device_types.csv`)**\n",
    "A simple mapping from short device type codes (e.g., 't', 'p') to full names (e.g., 'Tablet', 'Mobile Phone').\n",
    "- `short`: Device code used in other datasets.\n",
    "- `full_name`: Descriptive name of the device type."
   ]
  },
  {
   "cell_type": "markdown",
   "metadata": {},
   "source": [
    "### Define File Paths"
   ]
  },
  {
   "cell_type": "code",
   "execution_count": null,
   "metadata": {},
   "outputs": [],
   "source": [
    "# Define file paths relative to the notebook's location in the 'notebooks' directory\n",
    "impressions_path = '../data/test_dataset/impressions_test.pqt'\n",
    "conversions_path = '../data/test_dataset/conversions_test.pqt'\n",
    "device_types_path = '../data/data_dictionary/device_types.csv'"
   ]
  },
  {
   "cell_type": "markdown",
   "metadata": {},
   "source": [
    "### Impressions Data Exploration"
   ]
  },
  {
   "cell_type": "code",
   "execution_count": null,
   "metadata": {},
   "outputs": [],
   "source": [
    "# Load the impressions dataset\n",
    "# Note: Parquet datasets can be stored as directories. Pandas reads them correctly.\n",
    "try:\n",
    "    df_impressions = pd.read_parquet(impressions_path)\n",
    "    print(f\"Successfully loaded impressions data from {impressions_path}\\nShape: {df_impressions.shape}\")\n",
    "except Exception as e:\n",
    "    print(f\"Error loading {impressions_path}: {e}\")\n",
    "    df_impressions = pd.DataFrame() # Create empty dataframe if load fails"
   ]
  },
  {
   "cell_type": "code",
   "execution_count": null,
   "metadata": {},
   "outputs": [],
   "source": [
    "# Display basic information and schema\n",
    "print(\"\\nImpressions Data Info:\")\n",
    "if not df_impressions.empty:\n",
    "    df_impressions.info()\n",
    "else:\n",
    "    print(\"Impressions DataFrame is empty.\")"
   ]
  },
  {
   "cell_type": "code",
   "execution_count": null,
   "metadata": {},
   "outputs": [],
   "source": [
    "# Show the first few rows\n",
    "print(\"\\nImpressions Data - First 5 Rows:\")\n",
    "if not df_impressions.empty:\n",
    "    display(df_impressions.head())\n",
    "else:\n",
    "    print(\"Impressions DataFrame is empty.\")"
   ]
  },
  {
   "cell_type": "code",
   "execution_count": null,
   "metadata": {},
   "outputs": [],
   "source": [
    "# Get descriptive statistics for all columns (including object/string types)\n",
    "print(\"\\nImpressions Data - Descriptive Statistics:\")\n",
    "if not df_impressions.empty:\n",
    "    try:\n",
    "        display(df_impressions.describe(include='all', datetime_is_numeric=True))\n",
    "    except Exception as e:\n",
    "        print(f\"Could not generate descriptive statistics: {e}\")\n",
    "else:\n",
    "    print(\"Impressions DataFrame is empty.\")"
   ]
  },
  {
   "cell_type": "code",
   "execution_count": null,
   "metadata": {},
   "outputs": [],
   "source": [
    "# Check for missing values\n",
    "print(\"\\nImpressions Data - Missing Value Counts:\")\n",
    "if not df_impressions.empty:\n",
    "    missing_imp = df_impressions.isnull().sum()\n",
    "    missing_imp_filtered = missing_imp[missing_imp > 0].sort_values(ascending=False)\n",
    "    if not missing_imp_filtered.empty:\n",
    "        print(\"Columns with missing values:\")\n",
    "        display(missing_imp_filtered)\n",
    "    else:\n",
    "        print(\"No missing values found.\")\n",
    "else:\n",
    "    print(\"Impressions DataFrame is empty.\")"
   ]
  },
  {
   "cell_type": "markdown",
   "metadata": {},
   "source": [
    "### Conversions Data Exploration"
   ]
  },
  {
   "cell_type": "code",
   "execution_count": null,
   "metadata": {},
   "outputs": [],
   "source": [
    "# Load the conversions dataset\n",
    "try:\n",
    "    df_conversions = pd.read_parquet(conversions_path)\n",
    "    print(f\"Successfully loaded conversions data from {conversions_path}\\nShape: {df_conversions.shape}\")\n",
    "except Exception as e:\n",
    "    print(f\"Error loading {conversions_path}: {e}\")\n",
    "    df_conversions = pd.DataFrame() # Create empty dataframe if load fails"
   ]
  },
  {
   "cell_type": "code",
   "execution_count": null,
   "metadata": {},
   "outputs": [],
   "source": [
    "# Display basic information and schema\n",
    "print(\"\\nConversions Data Info:\")\n",
    "if not df_conversions.empty:\n",
    "    df_conversions.info()\n",
    "else:\n",
    "    print(\"Conversions DataFrame is empty.\")"
   ]
  },
  {
   "cell_type": "code",
   "execution_count": null,
   "metadata": {},
   "outputs": [],
   "source": [
    "# Show the first few rows\n",
    "print(\"\\nConversions Data - First 5 Rows:\")\n",
    "if not df_conversions.empty:\n",
    "    display(df_conversions.head())\n",
    "else:\n",
    "    print(\"Conversions DataFrame is empty.\")"
   ]
  },
  {
   "cell_type": "code",
   "execution_count": null,
   "metadata": {},
   "outputs": [],
   "source": [
    "# Get descriptive statistics for all columns\n",
    "print(\"\\nConversions Data - Descriptive Statistics:\")\n",
    "if not df_conversions.empty:\n",
    "    try:\n",
    "        display(df_conversions.describe(include='all', datetime_is_numeric=True))\n",
    "    except Exception as e:\n",
    "        print(f\"Could not generate descriptive statistics: {e}\")\n",
    "else:\n",
    "    print(\"Conversions DataFrame is empty.\")"
   ]
  },
  {
   "cell_type": "code",
   "execution_count": null,
   "metadata": {},
   "outputs": [],
   "source": [
    "# Check for missing values\n",
    "print(\"\\nConversions Data - Missing Value Counts:\")\n",
    "if not df_conversions.empty:\n",
    "    missing_conv = df_conversions.isnull().sum()\n",
    "    missing_conv_filtered = missing_conv[missing_conv > 0].sort_values(ascending=False)\n",
    "    if not missing_conv_filtered.empty:\n",
    "        print(\"Columns with missing values:\")\n",
    "        display(missing_conv_filtered)\n",
    "    else:\n",
    "        print(\"No missing values found.\")\n",
    "else:\n",
    "    print(\"Conversions DataFrame is empty.\")\n",
    ""
   ]
  },
  {
   "cell_type": "markdown",
   "metadata": {},
   "source": [
    "### Device Types Mapping"
   ]
  },
  {
   "cell_type": "code",
   "execution_count": null,
   "metadata": {},
   "outputs": [],
   "source": [
    "# Load the device types mapping\n",
    "try:\n",
    "    df_device_types = pd.read_csv(device_types_path)\n",
    "    print(f\"Successfully loaded device types data from {device_types_path}\\nShape: {df_device_types.shape}\")\n",
    "except Exception as e:\n",
    "    print(f\"Error loading {device_types_path}: {e}\")\n",
    "    df_device_types = pd.DataFrame()"
   ]
  },
  {
   "cell_type": "code",
   "execution_count": null,
   "metadata": {},
   "outputs": [],
   "source": [
    "# Display basic information\n",
    "print(\"\\nDevice Types Info:\")\n",
    "if not df_device_types.empty:\n",
    "    df_device_types.info()\n",
    "else:\n",
    "    print(\"Device Types DataFrame is empty.\")"
   ]
  },
  {
   "cell_type": "code",
   "execution_count": null,
   "metadata": {},
   "outputs": [],
   "source": [
    "# Show all rows (it's a small file)\n",
    "print(\"\\nDevice Types Data:\")\n",
    "if not df_device_types.empty:\n",
    "    display(df_device_types)\n",
    "else:\n",
    "    print(\"Device Types DataFrame is empty.\")"
   ]
  }
 ],
 "metadata": {
  "kernelspec": {
   "display_name": "Python 3",
   "language": "python",
   "name": "python3"
  },
  "language_info": {
   "codemirror_mode": {
    "name": "ipython",
    "version": 3
   },
   "file_extension": ".py",
   "mimetype": "text/x-python",
   "name": "python",
   "nbconvert_exporter": "python",
   "pygments_lexer": "ipython3"
  }
 },
 "nbformat": 4,
 "nbformat_minor": 2
}

