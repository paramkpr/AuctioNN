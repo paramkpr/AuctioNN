{
 "cells": [
  {
   "cell_type": "markdown",
   "metadata": {},
   "source": [
    "# Data Cleaning\n",
    "We need to clean up these parquet files before we can use them for training the neural network. On a high level, we need to:\n",
    "1. Figure out the linking strategy between impressions and conversions. I.e. which impressions lead to which conversions.\n",
    "2. Ingest the data into a torch dataset.\n",
    "   1. Remove unused or underused columns.\n",
    "   2. Handle missing values\n",
    "   3. Rename columns to be more descriptive.\n",
    "   4. Parse any columns that need to be parsed.(eg. user-agent strings)\n",
    "   5. Finally, think about what feature engineering needs to be done."
   ]
  },
  {
   "cell_type": "code",
   "execution_count": 48,
   "metadata": {},
   "outputs": [],
   "source": [
    "import pandas as pd\n",
    "\n",
    "# Configure pandas display options for better readability\n",
    "pd.set_option('display.max_columns', None) \n",
    "pd.set_option('display.max_rows', 100)\n",
    "pd.set_option('display.width', 1000) # Adjust width for better table display if needed\n",
    "\n",
    "impressions_path = './data/test_dataset/impressions_test.pqt/'\n",
    "conversions_path = './data/test_dataset/conversions_test.pqt/'\n",
    "device_types_path = './data/data_dictionary/device_types.csv'\n",
    "\n",
    "# Load the impressions dataset\n",
    "# Note: Parquet datasets can be stored as directories. Pandas reads them correctly.\n",
    "df_impressions = pd.read_parquet(impressions_path)\n",
    "df_conversions = pd.read_parquet(conversions_path)\n",
    "\n",
    "# df_conversions[['imp_click_dttm_utc', 'conv_dttm_utc']].head()\n",
    "\n",
    "df_impressions = df_impressions.drop(columns=[col for col in df_impressions.columns if col.startswith('aip')])\n",
    "df_conversions = df_conversions.drop(columns=[col for col in df_conversions.columns if col.startswith('aip')])\n",
    "\n"
   ]
  },
  {
   "cell_type": "markdown",
   "metadata": {},
   "source": [
    "## 1. Identify the linking strategy between impressions and conversions.\n",
    "Claritas has updated the dataset to include a `unique_id` column on both the impressions and conversions datasets. This should make the linking strategy a lot easier.\n",
    "\n",
    "DEPRECATED: I think the best way to do this is to look at the `imp_click_dttm_utc` and `conv_dttm_utc` columns in conjunction with the `campaign_id`, `placement_id`, and `imp_click_campaign_id`, `imp_click_placement_id` columns. I think that this should be unique, but I'm not sure at the moment."
   ]
  },
  {
   "cell_type": "code",
   "execution_count": 51,
   "metadata": {},
   "outputs": [
    {
     "name": "stdout",
     "output_type": "stream",
     "text": [
      "--- Merged Data Info ---\n",
      "<class 'pandas.core.frame.DataFrame'>\n",
      "RangeIndex: 0 entries\n",
      "Data columns (total 17 columns):\n",
      " #   Column               Non-Null Count  Dtype         \n",
      "---  ------               --------------  -----         \n",
      " 0   dte                  0 non-null      object        \n",
      " 1   campaign_id          0 non-null      int64         \n",
      " 2   placement_id         0 non-null      int64         \n",
      " 3   dttm_utc             0 non-null      datetime64[ns]\n",
      " 4   cnxn_type            0 non-null      object        \n",
      " 5   user_agent           0 non-null      object        \n",
      " 6   dma                  0 non-null      int32         \n",
      " 7   country              0 non-null      object        \n",
      " 8   os                   0 non-null      object        \n",
      " 9   prizm_premier_code   0 non-null      object        \n",
      " 10  device_type          0 non-null      object        \n",
      " 11  unique_id            0 non-null      object        \n",
      " 12  imp_click_unique_id  0 non-null      object        \n",
      " 13  conv_dttm_utc        0 non-null      datetime64[ns]\n",
      " 14  goal_id              0 non-null      int64         \n",
      " 15  goal_name            0 non-null      object        \n",
      " 16  conversion_flag      0 non-null      int64         \n",
      "dtypes: datetime64[ns](2), int32(1), int64(4), object(10)\n",
      "memory usage: 132.0+ bytes\n",
      "\n",
      "Number of impressions successfully linked to a conversion: 0\n",
      "\n",
      "--- Sample of Merged Data ---\n"
     ]
    },
    {
     "data": {
      "text/html": [
       "<div>\n",
       "<style scoped>\n",
       "    .dataframe tbody tr th:only-of-type {\n",
       "        vertical-align: middle;\n",
       "    }\n",
       "\n",
       "    .dataframe tbody tr th {\n",
       "        vertical-align: top;\n",
       "    }\n",
       "\n",
       "    .dataframe thead th {\n",
       "        text-align: right;\n",
       "    }\n",
       "</style>\n",
       "<table border=\"1\" class=\"dataframe\">\n",
       "  <thead>\n",
       "    <tr style=\"text-align: right;\">\n",
       "      <th></th>\n",
       "      <th>unique_id</th>\n",
       "      <th>dttm_utc</th>\n",
       "      <th>conv_dttm_utc</th>\n",
       "      <th>goal_name</th>\n",
       "      <th>conversion_flag</th>\n",
       "    </tr>\n",
       "  </thead>\n",
       "  <tbody>\n",
       "  </tbody>\n",
       "</table>\n",
       "</div>"
      ],
      "text/plain": [
       "Empty DataFrame\n",
       "Columns: [unique_id, dttm_utc, conv_dttm_utc, goal_name, conversion_flag]\n",
       "Index: []"
      ]
     },
     "metadata": {},
     "output_type": "display_data"
    },
    {
     "name": "stdout",
     "output_type": "stream",
     "text": [
      "\n",
      "--- Sample of Linked Rows (conversion_flag == 1) ---\n"
     ]
    },
    {
     "data": {
      "text/html": [
       "<div>\n",
       "<style scoped>\n",
       "    .dataframe tbody tr th:only-of-type {\n",
       "        vertical-align: middle;\n",
       "    }\n",
       "\n",
       "    .dataframe tbody tr th {\n",
       "        vertical-align: top;\n",
       "    }\n",
       "\n",
       "    .dataframe thead th {\n",
       "        text-align: right;\n",
       "    }\n",
       "</style>\n",
       "<table border=\"1\" class=\"dataframe\">\n",
       "  <thead>\n",
       "    <tr style=\"text-align: right;\">\n",
       "      <th></th>\n",
       "      <th>unique_id</th>\n",
       "      <th>dttm_utc</th>\n",
       "      <th>conv_dttm_utc</th>\n",
       "      <th>goal_name</th>\n",
       "      <th>conversion_flag</th>\n",
       "    </tr>\n",
       "  </thead>\n",
       "  <tbody>\n",
       "  </tbody>\n",
       "</table>\n",
       "</div>"
      ],
      "text/plain": [
       "Empty DataFrame\n",
       "Columns: [unique_id, dttm_utc, conv_dttm_utc, goal_name, conversion_flag]\n",
       "Index: []"
      ]
     },
     "metadata": {},
     "output_type": "display_data"
    }
   ],
   "source": [
    "import pandas as pd\n",
    "\n",
    "# Assuming df_impressions and df_conversions are already loaded with the new data\n",
    "\n",
    "# --- Linking using Unique IDs ---\n",
    "# Perform a left join using the unique IDs\n",
    "df_merged_final = pd.merge(\n",
    "    df_impressions,\n",
    "    df_conversions[['imp_click_unique_id', 'conv_dttm_utc', 'goal_id', 'goal_name']], # Select relevant conversion cols + the key\n",
    "    left_on='unique_id',\n",
    "    right_on='imp_click_unique_id',\n",
    "    how='left'\n",
    ")\n",
    "\n",
    "# Create the conversion flag based on successful merge\n",
    "# Check if a column from the right dataframe (conversions) is not null. 'conv_dttm_utc' is a good choice.\n",
    "df_merged_final['conversion_flag'] = (~df_merged_final['conv_dttm_utc'].isnull()).astype(int)\n",
    "\n",
    "# Optional: Drop the redundant ID column from the conversions table if desired\n",
    "# df_merged_final = df_merged_final.drop(columns=['imp_click_unique_id'])\n",
    "\n",
    "# --- Verification ---\n",
    "print(\"--- Merged Data Info ---\")\n",
    "df_merged_final.info()\n",
    "\n",
    "print(f\"\\nNumber of impressions successfully linked to a conversion: {df_merged_final['conversion_flag'].sum()}\")\n",
    "\n",
    "print(\"\\n--- Sample of Merged Data ---\")\n",
    "# Display relevant columns to check the merge\n",
    "display(df_merged_final[['unique_id', 'dttm_utc', 'conv_dttm_utc', 'goal_name', 'conversion_flag']].head())\n",
    "\n",
    "# Check a few linked rows\n",
    "print(\"\\n--- Sample of Linked Rows (conversion_flag == 1) ---\")\n",
    "display(df_merged_final[df_merged_final['conversion_flag'] == 1][['unique_id', 'dttm_utc', 'conv_dttm_utc', 'goal_name', 'conversion_flag']].head())"
   ]
  },
  {
   "cell_type": "code",
   "execution_count": 53,
   "metadata": {},
   "outputs": [
    {
     "name": "stdout",
     "output_type": "stream",
     "text": [
      "Number of unique imp_click_unique_id in conversions: 49\n",
      "Sample conversion IDs: ['93b16c75-919c-4f8e-addc-a3f0f60ab549'\n",
      " '92e13770-1ee7-4168-8d2c-913cafc22b42'\n",
      " 'd6bdf968-9356-4435-85c1-d456d892ff38'\n",
      " 'e8b0e97b-c6f3-4aed-bc0e-5286d5985451'\n",
      " '1e75cbc6-b4e6-49ba-96d5-6f6d343d3c64']\n",
      "\n",
      "Number of impression unique_ids found within conversion imp_click_unique_ids: 0\n",
      "\n",
      "No unique_ids from the impressions dataset were found in the conversions dataset's imp_click_unique_id column.\n"
     ]
    }
   ],
   "source": [
    "import pandas as pd\n",
    "\n",
    "# Assuming df_impressions and df_conversions are loaded\n",
    "\n",
    "# --- Sanity Check: ID Existence ---\n",
    "\n",
    "# Get the unique IDs from conversions\n",
    "conversion_ids = df_conversions['imp_click_unique_id'].unique()\n",
    "print(f\"Number of unique imp_click_unique_id in conversions: {len(conversion_ids)}\")\n",
    "# Display a few to check format\n",
    "print(\"Sample conversion IDs:\", conversion_ids[:5])\n",
    "\n",
    "\n",
    "# Check which unique_ids from impressions are present in the conversion IDs\n",
    "matching_mask = df_impressions['unique_id'].isin(conversion_ids)\n",
    "num_matches_found = matching_mask.sum()\n",
    "\n",
    "print(f\"\\nNumber of impression unique_ids found within conversion imp_click_unique_ids: {num_matches_found}\")\n",
    "\n",
    "# If matches were found, show a few of the matching IDs from impressions\n",
    "if num_matches_found > 0:\n",
    "    matching_impression_ids = df_impressions.loc[matching_mask, 'unique_id'].unique()\n",
    "    print(\"\\nSample of matching unique_ids found in impressions:\")\n",
    "    print(matching_impression_ids[:10]) # Show up to 10 matching IDs\n",
    "else:\n",
    "    print(\"\\nNo unique_ids from the impressions dataset were found in the conversions dataset's imp_click_unique_id column.\")\n",
    "\n"
   ]
  },
  {
   "cell_type": "markdown",
   "metadata": {},
   "source": []
  }
 ],
 "metadata": {
  "kernelspec": {
   "display_name": "AuctioNN (venv)",
   "language": "python",
   "name": "auctionn-venv"
  },
  "language_info": {
   "codemirror_mode": {
    "name": "ipython",
    "version": 3
   },
   "file_extension": ".py",
   "mimetype": "text/x-python",
   "name": "python",
   "nbconvert_exporter": "python",
   "pygments_lexer": "ipython3",
   "version": "3.13.2"
  }
 },
 "nbformat": 4,
 "nbformat_minor": 2
}
