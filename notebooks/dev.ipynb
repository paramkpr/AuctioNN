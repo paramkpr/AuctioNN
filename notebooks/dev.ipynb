{
 "cells": [
  {
   "cell_type": "code",
   "execution_count": null,
   "metadata": {},
   "outputs": [],
   "source": []
  },
  {
   "cell_type": "code",
   "execution_count": 9,
   "metadata": {},
   "outputs": [
    {
     "name": "stdout",
     "output_type": "stream",
     "text": [
      "<class 'pandas.core.frame.DataFrame'>\n",
      "RangeIndex: 3845798 entries, 0 to 3845797\n",
      "Data columns (total 24 columns):\n",
      " #   Column                Dtype         \n",
      "---  ------                -----         \n",
      " 0   placement_id          int64         \n",
      " 1   impression_dttm_utc   datetime64[ns]\n",
      " 2   cnxn_type             object        \n",
      " 3   dma                   int32         \n",
      " 4   country               object        \n",
      " 5   os                    object        \n",
      " 6   prizm_premier_code    object        \n",
      " 7   device_type           object        \n",
      " 8   unique_id             object        \n",
      " 9   campaign_id           int32         \n",
      " 10  dte                   category      \n",
      " 11  conv_dttm_utc         datetime64[ns]\n",
      " 12  goal_name             object        \n",
      " 13  conversion_flag       int64         \n",
      " 14  ua_browser            object        \n",
      " 15  ua_os                 object        \n",
      " 16  ua_device_family      object        \n",
      " 17  ua_device_brand       object        \n",
      " 18  ua_is_mobile          bool          \n",
      " 19  ua_is_tablet          bool          \n",
      " 20  ua_is_pc              bool          \n",
      " 21  ua_is_bot             bool          \n",
      " 22  impression_hour       int32         \n",
      " 23  impression_dayofweek  int32         \n",
      "dtypes: bool(4), category(1), datetime64[ns](2), int32(4), int64(2), object(11)\n",
      "memory usage: 517.1+ MB\n"
     ]
    },
    {
     "data": {
      "text/plain": [
       "None"
      ]
     },
     "metadata": {},
     "output_type": "display_data"
    },
    {
     "data": {
      "text/html": [
       "<div>\n",
       "<style scoped>\n",
       "    .dataframe tbody tr th:only-of-type {\n",
       "        vertical-align: middle;\n",
       "    }\n",
       "\n",
       "    .dataframe tbody tr th {\n",
       "        vertical-align: top;\n",
       "    }\n",
       "\n",
       "    .dataframe thead th {\n",
       "        text-align: right;\n",
       "    }\n",
       "</style>\n",
       "<table border=\"1\" class=\"dataframe\">\n",
       "  <thead>\n",
       "    <tr style=\"text-align: right;\">\n",
       "      <th></th>\n",
       "      <th>placement_id</th>\n",
       "      <th>impression_dttm_utc</th>\n",
       "      <th>cnxn_type</th>\n",
       "      <th>dma</th>\n",
       "      <th>country</th>\n",
       "      <th>os</th>\n",
       "      <th>prizm_premier_code</th>\n",
       "      <th>device_type</th>\n",
       "      <th>unique_id</th>\n",
       "      <th>campaign_id</th>\n",
       "      <th>...</th>\n",
       "      <th>ua_browser</th>\n",
       "      <th>ua_os</th>\n",
       "      <th>ua_device_family</th>\n",
       "      <th>ua_device_brand</th>\n",
       "      <th>ua_is_mobile</th>\n",
       "      <th>ua_is_tablet</th>\n",
       "      <th>ua_is_pc</th>\n",
       "      <th>ua_is_bot</th>\n",
       "      <th>impression_hour</th>\n",
       "      <th>impression_dayofweek</th>\n",
       "    </tr>\n",
       "  </thead>\n",
       "  <tbody>\n",
       "    <tr>\n",
       "      <th>0</th>\n",
       "      <td>557650</td>\n",
       "      <td>2025-01-02 14:49:33</td>\n",
       "      <td>Corporate</td>\n",
       "      <td>602</td>\n",
       "      <td>us</td>\n",
       "      <td>iOS</td>\n",
       "      <td>Unknown</td>\n",
       "      <td>p</td>\n",
       "      <td>b0eea5e2-0f98-4609-b6c1-141118980e82</td>\n",
       "      <td>9317</td>\n",
       "      <td>...</td>\n",
       "      <td>Mobile Safari UI/WKWebView</td>\n",
       "      <td>iOS</td>\n",
       "      <td>iPhone</td>\n",
       "      <td>Apple</td>\n",
       "      <td>True</td>\n",
       "      <td>False</td>\n",
       "      <td>False</td>\n",
       "      <td>False</td>\n",
       "      <td>14</td>\n",
       "      <td>3</td>\n",
       "    </tr>\n",
       "    <tr>\n",
       "      <th>1</th>\n",
       "      <td>557650</td>\n",
       "      <td>2025-01-02 18:48:43</td>\n",
       "      <td>Cable/DSL</td>\n",
       "      <td>623</td>\n",
       "      <td>us</td>\n",
       "      <td>unknown</td>\n",
       "      <td>Unknown</td>\n",
       "      <td>p</td>\n",
       "      <td>b5352d12-7098-4378-929f-51db0bf40d8f</td>\n",
       "      <td>9317</td>\n",
       "      <td>...</td>\n",
       "      <td>Podcasts</td>\n",
       "      <td>iOS</td>\n",
       "      <td>iOS-Device</td>\n",
       "      <td>Apple</td>\n",
       "      <td>True</td>\n",
       "      <td>False</td>\n",
       "      <td>False</td>\n",
       "      <td>False</td>\n",
       "      <td>18</td>\n",
       "      <td>3</td>\n",
       "    </tr>\n",
       "    <tr>\n",
       "      <th>2</th>\n",
       "      <td>557650</td>\n",
       "      <td>2025-01-02 11:14:21</td>\n",
       "      <td>Cable/DSL</td>\n",
       "      <td>602</td>\n",
       "      <td>us</td>\n",
       "      <td>unknown</td>\n",
       "      <td>21</td>\n",
       "      <td>p</td>\n",
       "      <td>75d06ce4-d3a2-4ec8-94ea-42c0ffaf6ed2</td>\n",
       "      <td>9317</td>\n",
       "      <td>...</td>\n",
       "      <td>Podcasts</td>\n",
       "      <td>iOS</td>\n",
       "      <td>iOS-Device</td>\n",
       "      <td>Apple</td>\n",
       "      <td>True</td>\n",
       "      <td>False</td>\n",
       "      <td>False</td>\n",
       "      <td>False</td>\n",
       "      <td>11</td>\n",
       "      <td>3</td>\n",
       "    </tr>\n",
       "    <tr>\n",
       "      <th>3</th>\n",
       "      <td>557650</td>\n",
       "      <td>2025-01-02 03:12:29</td>\n",
       "      <td>Cable/DSL</td>\n",
       "      <td>602</td>\n",
       "      <td>us</td>\n",
       "      <td>unknown</td>\n",
       "      <td>21</td>\n",
       "      <td>p</td>\n",
       "      <td>b715b1c9-b150-4fbb-a5df-c02b4e252c9e</td>\n",
       "      <td>9317</td>\n",
       "      <td>...</td>\n",
       "      <td>Podcasts</td>\n",
       "      <td>iOS</td>\n",
       "      <td>iOS-Device</td>\n",
       "      <td>Apple</td>\n",
       "      <td>True</td>\n",
       "      <td>False</td>\n",
       "      <td>False</td>\n",
       "      <td>False</td>\n",
       "      <td>3</td>\n",
       "      <td>3</td>\n",
       "    </tr>\n",
       "    <tr>\n",
       "      <th>4</th>\n",
       "      <td>557650</td>\n",
       "      <td>2025-01-02 18:13:09</td>\n",
       "      <td>Cellular</td>\n",
       "      <td>602</td>\n",
       "      <td>us</td>\n",
       "      <td>iOS</td>\n",
       "      <td>Unknown</td>\n",
       "      <td>p</td>\n",
       "      <td>43f8dc0d-3aee-4b7d-8b11-38bb9c778671</td>\n",
       "      <td>9317</td>\n",
       "      <td>...</td>\n",
       "      <td>Mobile Safari UI/WKWebView</td>\n",
       "      <td>iOS</td>\n",
       "      <td>iPhone</td>\n",
       "      <td>Apple</td>\n",
       "      <td>True</td>\n",
       "      <td>False</td>\n",
       "      <td>False</td>\n",
       "      <td>False</td>\n",
       "      <td>18</td>\n",
       "      <td>3</td>\n",
       "    </tr>\n",
       "  </tbody>\n",
       "</table>\n",
       "<p>5 rows × 24 columns</p>\n",
       "</div>"
      ],
      "text/plain": [
       "   placement_id impression_dttm_utc  cnxn_type  dma country       os  \\\n",
       "0        557650 2025-01-02 14:49:33  Corporate  602      us      iOS   \n",
       "1        557650 2025-01-02 18:48:43  Cable/DSL  623      us  unknown   \n",
       "2        557650 2025-01-02 11:14:21  Cable/DSL  602      us  unknown   \n",
       "3        557650 2025-01-02 03:12:29  Cable/DSL  602      us  unknown   \n",
       "4        557650 2025-01-02 18:13:09   Cellular  602      us      iOS   \n",
       "\n",
       "  prizm_premier_code device_type                             unique_id  \\\n",
       "0            Unknown           p  b0eea5e2-0f98-4609-b6c1-141118980e82   \n",
       "1            Unknown           p  b5352d12-7098-4378-929f-51db0bf40d8f   \n",
       "2                 21           p  75d06ce4-d3a2-4ec8-94ea-42c0ffaf6ed2   \n",
       "3                 21           p  b715b1c9-b150-4fbb-a5df-c02b4e252c9e   \n",
       "4            Unknown           p  43f8dc0d-3aee-4b7d-8b11-38bb9c778671   \n",
       "\n",
       "   campaign_id  ...                  ua_browser ua_os ua_device_family  \\\n",
       "0         9317  ...  Mobile Safari UI/WKWebView   iOS           iPhone   \n",
       "1         9317  ...                    Podcasts   iOS       iOS-Device   \n",
       "2         9317  ...                    Podcasts   iOS       iOS-Device   \n",
       "3         9317  ...                    Podcasts   iOS       iOS-Device   \n",
       "4         9317  ...  Mobile Safari UI/WKWebView   iOS           iPhone   \n",
       "\n",
       "   ua_device_brand ua_is_mobile ua_is_tablet ua_is_pc ua_is_bot  \\\n",
       "0            Apple         True        False    False     False   \n",
       "1            Apple         True        False    False     False   \n",
       "2            Apple         True        False    False     False   \n",
       "3            Apple         True        False    False     False   \n",
       "4            Apple         True        False    False     False   \n",
       "\n",
       "   impression_hour  impression_dayofweek  \n",
       "0               14                     3  \n",
       "1               18                     3  \n",
       "2               11                     3  \n",
       "3                3                     3  \n",
       "4               18                     3  \n",
       "\n",
       "[5 rows x 24 columns]"
      ]
     },
     "metadata": {},
     "output_type": "display_data"
    }
   ],
   "source": [
    "import pandas as pd\n",
    "\n",
    "dataset = pd.read_parquet('./data/clean_data.parquet')\n",
    "display(dataset.info())\n",
    "display(dataset.head())\n"
   ]
  },
  {
   "cell_type": "code",
   "execution_count": 4,
   "metadata": {},
   "outputs": [
    {
     "name": "stdout",
     "output_type": "stream",
     "text": [
      "Loading pre-processed data for 'test' split:\n",
      "  Categorical: ./data/processed_splits/test_categorical_data.npy\n",
      "  Numerical:   ./data/processed_splits/test_numerical_data.npy\n",
      "  Target:      ./data/processed_splits/test_target_data.npy\n",
      "Dataset initialized for 'test'. Number of samples: 576870\n",
      "  Categorical shape: (576870, 10)\n",
      "  Numerical shape:   (576870, 8)\n",
      "  Target shape:      (576870,)\n"
     ]
    }
   ],
   "source": [
    "from src.data_processing.datasets import AuctionDataset\n",
    "\n",
    "auction_dataset = AuctionDataset(processed_data_dir=\"./data/processed_splits\", split_name=\"test\")"
   ]
  },
  {
   "cell_type": "code",
   "execution_count": 9,
   "metadata": {},
   "outputs": [
    {
     "name": "stdout",
     "output_type": "stream",
     "text": [
      "[3, 1, 76, 44, 20, 1, 76, 17, 797, 2] [0.45481619238853455, -0.18558049201965332, -0.1545756608247757, -0.11264967918395996, -0.3494034707546234, 1.36832857131958, 1.3651432991027832, -0.3001197278499603] 0.0\n"
     ]
    }
   ],
   "source": [
    "cat, num, target = auction_dataset[0]\n",
    "print(cat.long().tolist(), num.float().tolist(), target.tolist())"
   ]
  },
  {
   "cell_type": "code",
   "execution_count": 12,
   "metadata": {},
   "outputs": [
    {
     "data": {
      "text/plain": [
       "torch.Tensor"
      ]
     },
     "execution_count": 12,
     "metadata": {},
     "output_type": "execute_result"
    }
   ],
   "source": [
    "type(auction_dataset[0][0])"
   ]
  },
  {
   "cell_type": "code",
   "execution_count": null,
   "metadata": {},
   "outputs": [
    {
     "name": "stdout",
     "output_type": "stream",
     "text": [
      "[[2, 3, 12, 44, 69, 1, 40, 10, 315, 27]] [[-2.198690414428711, -0.18558049201965332, -0.1545756608247757, -0.11264967918395996, -0.696603536605835, 1.2293754816055298, -0.660056471824646, -1.2451515197753906]] [0.0]\n"
     ]
    }
   ],
   "source": [
    "from src.exchange import Impression, ImpressionGenerator, OnlinePreprocessor\n",
    "\n",
    "gen = ImpressionGenerator(parquet_path=\"./data/clean_data.parquet\")\n",
    "preprocessor = OnlinePreprocessor(preprocessor_dir=\"./preprocessors\")\n",
    "\n",
    "for impression in gen.stream():\n",
    "    cat, num, target = preprocessor(impression, \"9317\")\n",
    "    print(cat.long().tolist(), num.float().tolist(), target.tolist())\n",
    "    break\n"
   ]
  }
 ],
 "metadata": {
  "kernelspec": {
   "display_name": "AuctioNN (venv)",
   "language": "python",
   "name": "auctionn-venv"
  },
  "language_info": {
   "codemirror_mode": {
    "name": "ipython",
    "version": 3
   },
   "file_extension": ".py",
   "mimetype": "text/x-python",
   "name": "python",
   "nbconvert_exporter": "python",
   "pygments_lexer": "ipython3",
   "version": "3.13.3"
  }
 },
 "nbformat": 4,
 "nbformat_minor": 2
}
